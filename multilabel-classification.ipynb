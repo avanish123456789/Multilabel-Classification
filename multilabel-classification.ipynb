{
 "cells": [
  {
   "cell_type": "code",
   "execution_count": 1,
   "id": "5b807d48",
   "metadata": {
    "_cell_guid": "b1076dfc-b9ad-4769-8c92-a6c4dae69d19",
    "_uuid": "8f2839f25d086af736a60e9eeb907d3b93b6e0e5",
    "execution": {
     "iopub.execute_input": "2023-07-02T15:21:55.494286Z",
     "iopub.status.busy": "2023-07-02T15:21:55.493882Z",
     "iopub.status.idle": "2023-07-02T15:21:55.508176Z",
     "shell.execute_reply": "2023-07-02T15:21:55.507117Z"
    },
    "papermill": {
     "duration": 0.040124,
     "end_time": "2023-07-02T15:21:55.510824",
     "exception": false,
     "start_time": "2023-07-02T15:21:55.470700",
     "status": "completed"
    },
    "tags": []
   },
   "outputs": [],
   "source": [
    "# This Python 3 environment comes with many helpful analytics libraries installed\n",
    "# It is defined by the kaggle/python Docker image: https://github.com/kaggle/docker-python\n",
    "# For example, here's several helpful packages to load\n",
    "\n",
    "import numpy as np # linear algebra\n",
    "import pandas as pd # data processing, CSV file I/O (e.g. pd.read_csv)\n",
    "\n",
    "# Input data files are available in the read-only \"../input/\" directory\n",
    "# For example, running this (by clicking run or pressing Shift+Enter) will list all files under the input directory\n",
    "\n",
    "import os\n",
    "for dirname, _, filenames in os.walk('/kaggle/input'):\n",
    "    for filename in filenames:\n",
    "        print(os.path.join(dirname, filename))\n",
    "\n",
    "# You can write up to 20GB to the current directory (/kaggle/working/) that gets preserved as output when you create a version using \"Save & Run All\" \n",
    "# You can also write temporary files to /kaggle/temp/, but they won't be saved outside of the current session"
   ]
  },
  {
   "cell_type": "code",
   "execution_count": 2,
   "id": "f0ae5d49",
   "metadata": {
    "execution": {
     "iopub.execute_input": "2023-07-02T15:21:55.554879Z",
     "iopub.status.busy": "2023-07-02T15:21:55.554487Z",
     "iopub.status.idle": "2023-07-02T15:21:55.558867Z",
     "shell.execute_reply": "2023-07-02T15:21:55.558117Z"
    },
    "papermill": {
     "duration": 0.02883,
     "end_time": "2023-07-02T15:21:55.561026",
     "exception": false,
     "start_time": "2023-07-02T15:21:55.532196",
     "status": "completed"
    },
    "tags": []
   },
   "outputs": [],
   "source": [
    "# Load EDA Pkgs\n",
    "import pandas as pd\n",
    "import numpy as np"
   ]
  },
  {
   "cell_type": "code",
   "execution_count": 3,
   "id": "73798c69",
   "metadata": {
    "execution": {
     "iopub.execute_input": "2023-07-02T15:21:55.604809Z",
     "iopub.status.busy": "2023-07-02T15:21:55.604449Z",
     "iopub.status.idle": "2023-07-02T15:21:57.200248Z",
     "shell.execute_reply": "2023-07-02T15:21:57.198719Z"
    },
    "papermill": {
     "duration": 1.620856,
     "end_time": "2023-07-02T15:21:57.203209",
     "exception": false,
     "start_time": "2023-07-02T15:21:55.582353",
     "status": "completed"
    },
    "tags": []
   },
   "outputs": [],
   "source": [
    "# Load Data Viz Pkgs\n",
    "import matplotlib.pyplot as plt\n",
    "import seaborn as sns"
   ]
  },
  {
   "cell_type": "code",
   "execution_count": 4,
   "id": "be98ade3",
   "metadata": {
    "execution": {
     "iopub.execute_input": "2023-07-02T15:21:57.247866Z",
     "iopub.status.busy": "2023-07-02T15:21:57.246767Z",
     "iopub.status.idle": "2023-07-02T15:21:57.830669Z",
     "shell.execute_reply": "2023-07-02T15:21:57.829426Z"
    },
    "papermill": {
     "duration": 0.609194,
     "end_time": "2023-07-02T15:21:57.833511",
     "exception": false,
     "start_time": "2023-07-02T15:21:57.224317",
     "status": "completed"
    },
    "tags": []
   },
   "outputs": [],
   "source": [
    "# ML Pkgs\n",
    "from sklearn.linear_model import LogisticRegression\n",
    "from sklearn.neighbors import KNeighborsClassifier\n",
    "from sklearn.tree import DecisionTreeClassifier\n",
    "from sklearn.naive_bayes import GaussianNB,MultinomialNB\n",
    "from sklearn.metrics import accuracy_score,hamming_loss,classification_report"
   ]
  },
  {
   "cell_type": "code",
   "execution_count": 5,
   "id": "fe728f5e",
   "metadata": {
    "execution": {
     "iopub.execute_input": "2023-07-02T15:21:57.877390Z",
     "iopub.status.busy": "2023-07-02T15:21:57.876817Z",
     "iopub.status.idle": "2023-07-02T15:21:57.895011Z",
     "shell.execute_reply": "2023-07-02T15:21:57.893982Z"
    },
    "papermill": {
     "duration": 0.043572,
     "end_time": "2023-07-02T15:21:57.897666",
     "exception": false,
     "start_time": "2023-07-02T15:21:57.854094",
     "status": "completed"
    },
    "tags": []
   },
   "outputs": [],
   "source": [
    "### Split Dataset into Train and Text\n",
    "from sklearn.model_selection import train_test_split\n",
    "# Feature engineering\n",
    "from sklearn.feature_extraction.text import TfidfVectorizer"
   ]
  },
  {
   "cell_type": "code",
   "execution_count": 6,
   "id": "0f934664",
   "metadata": {
    "execution": {
     "iopub.execute_input": "2023-07-02T15:21:57.940961Z",
     "iopub.status.busy": "2023-07-02T15:21:57.940558Z",
     "iopub.status.idle": "2023-07-02T15:21:57.945249Z",
     "shell.execute_reply": "2023-07-02T15:21:57.944102Z"
    },
    "papermill": {
     "duration": 0.028956,
     "end_time": "2023-07-02T15:21:57.947555",
     "exception": false,
     "start_time": "2023-07-02T15:21:57.918599",
     "status": "completed"
    },
    "tags": []
   },
   "outputs": [],
   "source": [
    "#!pip install scikit-multilearn"
   ]
  },
  {
   "cell_type": "code",
   "execution_count": 7,
   "id": "bd99dd72",
   "metadata": {
    "execution": {
     "iopub.execute_input": "2023-07-02T15:21:57.990533Z",
     "iopub.status.busy": "2023-07-02T15:21:57.989534Z",
     "iopub.status.idle": "2023-07-02T15:21:58.012808Z",
     "shell.execute_reply": "2023-07-02T15:21:58.011792Z"
    },
    "papermill": {
     "duration": 0.047573,
     "end_time": "2023-07-02T15:21:58.015545",
     "exception": false,
     "start_time": "2023-07-02T15:21:57.967972",
     "status": "completed"
    },
    "tags": []
   },
   "outputs": [],
   "source": [
    "# Multi Label Pkgs\n",
    "from skmultilearn.problem_transform import BinaryRelevance\n",
    "from skmultilearn.problem_transform import ClassifierChain\n",
    "from skmultilearn.problem_transform import LabelPowerset\n",
    "from skmultilearn.adapt import MLkNN"
   ]
  },
  {
   "cell_type": "code",
   "execution_count": 8,
   "id": "4ef1602a",
   "metadata": {
    "execution": {
     "iopub.execute_input": "2023-07-02T15:21:58.058118Z",
     "iopub.status.busy": "2023-07-02T15:21:58.057722Z",
     "iopub.status.idle": "2023-07-02T15:21:58.135580Z",
     "shell.execute_reply": "2023-07-02T15:21:58.134639Z"
    },
    "papermill": {
     "duration": 0.102247,
     "end_time": "2023-07-02T15:21:58.138231",
     "exception": false,
     "start_time": "2023-07-02T15:21:58.035984",
     "status": "completed"
    },
    "tags": []
   },
   "outputs": [],
   "source": [
    "# Load Dataset\n",
    "df = pd.read_csv(\"https://raw.githubusercontent.com/Jcharis/Python-Machine-Learning/master/Multi_Label_Text_Classification_with_Skmultilearn/data/so_dataset_2_tags.csv\")"
   ]
  },
  {
   "cell_type": "code",
   "execution_count": 9,
   "id": "0736f56d",
   "metadata": {
    "execution": {
     "iopub.execute_input": "2023-07-02T15:21:58.181233Z",
     "iopub.status.busy": "2023-07-02T15:21:58.180229Z",
     "iopub.status.idle": "2023-07-02T15:21:58.215936Z",
     "shell.execute_reply": "2023-07-02T15:21:58.214766Z"
    },
    "papermill": {
     "duration": 0.0599,
     "end_time": "2023-07-02T15:21:58.218524",
     "exception": false,
     "start_time": "2023-07-02T15:21:58.158624",
     "status": "completed"
    },
    "tags": []
   },
   "outputs": [
    {
     "data": {
      "text/html": [
       "<div>\n",
       "<style scoped>\n",
       "    .dataframe tbody tr th:only-of-type {\n",
       "        vertical-align: middle;\n",
       "    }\n",
       "\n",
       "    .dataframe tbody tr th {\n",
       "        vertical-align: top;\n",
       "    }\n",
       "\n",
       "    .dataframe thead th {\n",
       "        text-align: right;\n",
       "    }\n",
       "</style>\n",
       "<table border=\"1\" class=\"dataframe\">\n",
       "  <thead>\n",
       "    <tr style=\"text-align: right;\">\n",
       "      <th></th>\n",
       "      <th>title</th>\n",
       "      <th>tags</th>\n",
       "      <th>mysql</th>\n",
       "      <th>python</th>\n",
       "      <th>php</th>\n",
       "    </tr>\n",
       "  </thead>\n",
       "  <tbody>\n",
       "    <tr>\n",
       "      <th>0</th>\n",
       "      <td>Flask-SQLAlchemy - When are the tables/databas...</td>\n",
       "      <td>['python', 'mysql']</td>\n",
       "      <td>1</td>\n",
       "      <td>1.0</td>\n",
       "      <td>0.0</td>\n",
       "    </tr>\n",
       "    <tr>\n",
       "      <th>1</th>\n",
       "      <td>Combining two PHP variables for MySQL query</td>\n",
       "      <td>['php', 'mysql']</td>\n",
       "      <td>1</td>\n",
       "      <td>0.0</td>\n",
       "      <td>1.0</td>\n",
       "    </tr>\n",
       "    <tr>\n",
       "      <th>2</th>\n",
       "      <td>'Counting' the number of records that match a ...</td>\n",
       "      <td>['php', 'mysql']</td>\n",
       "      <td>1</td>\n",
       "      <td>0.0</td>\n",
       "      <td>1.0</td>\n",
       "    </tr>\n",
       "    <tr>\n",
       "      <th>3</th>\n",
       "      <td>Insert new row in a table and auto id number. ...</td>\n",
       "      <td>['php', 'mysql']</td>\n",
       "      <td>1</td>\n",
       "      <td>0.0</td>\n",
       "      <td>1.0</td>\n",
       "    </tr>\n",
       "    <tr>\n",
       "      <th>4</th>\n",
       "      <td>Create Multiple MySQL tables using PHP</td>\n",
       "      <td>['php', 'mysql']</td>\n",
       "      <td>1</td>\n",
       "      <td>0.0</td>\n",
       "      <td>1.0</td>\n",
       "    </tr>\n",
       "  </tbody>\n",
       "</table>\n",
       "</div>"
      ],
      "text/plain": [
       "                                               title                 tags  \\\n",
       "0  Flask-SQLAlchemy - When are the tables/databas...  ['python', 'mysql']   \n",
       "1        Combining two PHP variables for MySQL query     ['php', 'mysql']   \n",
       "2  'Counting' the number of records that match a ...     ['php', 'mysql']   \n",
       "3  Insert new row in a table and auto id number. ...     ['php', 'mysql']   \n",
       "4             Create Multiple MySQL tables using PHP     ['php', 'mysql']   \n",
       "\n",
       "   mysql  python  php  \n",
       "0      1     1.0  0.0  \n",
       "1      1     0.0  1.0  \n",
       "2      1     0.0  1.0  \n",
       "3      1     0.0  1.0  \n",
       "4      1     0.0  1.0  "
      ]
     },
     "execution_count": 9,
     "metadata": {},
     "output_type": "execute_result"
    }
   ],
   "source": [
    "df.head()"
   ]
  },
  {
   "cell_type": "code",
   "execution_count": 10,
   "id": "26e1e06e",
   "metadata": {
    "execution": {
     "iopub.execute_input": "2023-07-02T15:21:58.261829Z",
     "iopub.status.busy": "2023-07-02T15:21:58.261428Z",
     "iopub.status.idle": "2023-07-02T15:21:58.268960Z",
     "shell.execute_reply": "2023-07-02T15:21:58.267837Z"
    },
    "papermill": {
     "duration": 0.032002,
     "end_time": "2023-07-02T15:21:58.271231",
     "exception": false,
     "start_time": "2023-07-02T15:21:58.239229",
     "status": "completed"
    },
    "tags": []
   },
   "outputs": [
    {
     "data": {
      "text/plain": [
       "'Flask-SQLAlchemy - When are the tables/databases created and destroyed?'"
      ]
     },
     "execution_count": 10,
     "metadata": {},
     "output_type": "execute_result"
    }
   ],
   "source": [
    "df.loc[0].title"
   ]
  },
  {
   "cell_type": "code",
   "execution_count": 11,
   "id": "afe7c3d9",
   "metadata": {
    "execution": {
     "iopub.execute_input": "2023-07-02T15:21:58.314871Z",
     "iopub.status.busy": "2023-07-02T15:21:58.314484Z",
     "iopub.status.idle": "2023-07-02T15:21:58.322929Z",
     "shell.execute_reply": "2023-07-02T15:21:58.321852Z"
    },
    "papermill": {
     "duration": 0.03443,
     "end_time": "2023-07-02T15:21:58.326294",
     "exception": false,
     "start_time": "2023-07-02T15:21:58.291864",
     "status": "completed"
    },
    "tags": []
   },
   "outputs": [
    {
     "data": {
      "text/plain": [
       "title      object\n",
       "tags       object\n",
       "mysql       int64\n",
       "python    float64\n",
       "php       float64\n",
       "dtype: object"
      ]
     },
     "execution_count": 11,
     "metadata": {},
     "output_type": "execute_result"
    }
   ],
   "source": [
    "df.dtypes"
   ]
  },
  {
   "cell_type": "code",
   "execution_count": 12,
   "id": "e303c52f",
   "metadata": {
    "execution": {
     "iopub.execute_input": "2023-07-02T15:21:58.370038Z",
     "iopub.status.busy": "2023-07-02T15:21:58.369615Z",
     "iopub.status.idle": "2023-07-02T15:21:58.375472Z",
     "shell.execute_reply": "2023-07-02T15:21:58.374387Z"
    },
    "papermill": {
     "duration": 0.03021,
     "end_time": "2023-07-02T15:21:58.377721",
     "exception": false,
     "start_time": "2023-07-02T15:21:58.347511",
     "status": "completed"
    },
    "tags": []
   },
   "outputs": [],
   "source": [
    "# Convert to Float\n",
    "df['mysql'] = df['mysql'].astype(float)"
   ]
  },
  {
   "cell_type": "code",
   "execution_count": 13,
   "id": "8087282e",
   "metadata": {
    "execution": {
     "iopub.execute_input": "2023-07-02T15:21:58.421671Z",
     "iopub.status.busy": "2023-07-02T15:21:58.421242Z",
     "iopub.status.idle": "2023-07-02T15:21:58.429263Z",
     "shell.execute_reply": "2023-07-02T15:21:58.428122Z"
    },
    "papermill": {
     "duration": 0.032771,
     "end_time": "2023-07-02T15:21:58.431842",
     "exception": false,
     "start_time": "2023-07-02T15:21:58.399071",
     "status": "completed"
    },
    "tags": []
   },
   "outputs": [
    {
     "data": {
      "text/plain": [
       "title      object\n",
       "tags       object\n",
       "mysql     float64\n",
       "python    float64\n",
       "php       float64\n",
       "dtype: object"
      ]
     },
     "execution_count": 13,
     "metadata": {},
     "output_type": "execute_result"
    }
   ],
   "source": [
    "df.dtypes"
   ]
  },
  {
   "cell_type": "code",
   "execution_count": 14,
   "id": "c88d7484",
   "metadata": {
    "execution": {
     "iopub.execute_input": "2023-07-02T15:21:58.475990Z",
     "iopub.status.busy": "2023-07-02T15:21:58.475581Z",
     "iopub.status.idle": "2023-07-02T15:21:58.747927Z",
     "shell.execute_reply": "2023-07-02T15:21:58.746707Z"
    },
    "papermill": {
     "duration": 0.297555,
     "end_time": "2023-07-02T15:21:58.750404",
     "exception": false,
     "start_time": "2023-07-02T15:21:58.452849",
     "status": "completed"
    },
    "tags": []
   },
   "outputs": [
    {
     "data": {
      "text/plain": [
       "<Axes: xlabel='mysql', ylabel='count'>"
      ]
     },
     "execution_count": 14,
     "metadata": {},
     "output_type": "execute_result"
    },
    {
     "data": {
      "image/png": "[encoded data removed]",
      "text/plain": [
       "<Figure size 640x480 with 1 Axes>"
      ]
     },
     "metadata": {},
     "output_type": "display_data"
    }
   ],
   "source": [
    "# Value Count \n",
    "sns.countplot(data=df, x='mysql')"
   ]
  },
  {
   "cell_type": "code",
   "execution_count": 15,
   "id": "775c071e",
   "metadata": {
    "execution": {
     "iopub.execute_input": "2023-07-02T15:21:58.795473Z",
     "iopub.status.busy": "2023-07-02T15:21:58.795042Z",
     "iopub.status.idle": "2023-07-02T15:21:58.803840Z",
     "shell.execute_reply": "2023-07-02T15:21:58.802760Z"
    },
    "papermill": {
     "duration": 0.033935,
     "end_time": "2023-07-02T15:21:58.806184",
     "exception": false,
     "start_time": "2023-07-02T15:21:58.772249",
     "status": "completed"
    },
    "tags": []
   },
   "outputs": [
    {
     "data": {
      "text/plain": [
       "1.0    144\n",
       "Name: mysql, dtype: int64"
      ]
     },
     "execution_count": 15,
     "metadata": {},
     "output_type": "execute_result"
    }
   ],
   "source": [
    "df['mysql'].value_counts()"
   ]
  },
  {
   "cell_type": "code",
   "execution_count": 16,
   "id": "0c3756f2",
   "metadata": {
    "execution": {
     "iopub.execute_input": "2023-07-02T15:21:58.851748Z",
     "iopub.status.busy": "2023-07-02T15:21:58.851314Z",
     "iopub.status.idle": "2023-07-02T15:21:59.114448Z",
     "shell.execute_reply": "2023-07-02T15:21:59.113127Z"
    },
    "papermill": {
     "duration": 0.288919,
     "end_time": "2023-07-02T15:21:59.116972",
     "exception": false,
     "start_time": "2023-07-02T15:21:58.828053",
     "status": "completed"
    },
    "tags": []
   },
   "outputs": [
    {
     "data": {
      "text/plain": [
       "<Axes: xlabel='python', ylabel='count'>"
      ]
     },
     "execution_count": 16,
     "metadata": {},
     "output_type": "execute_result"
    },
    {
     "data": {
      "image/png": "[encoded data removed]",
      "text/plain": [
       "<Figure size 640x480 with 1 Axes>"
      ]
     },
     "metadata": {},
     "output_type": "display_data"
    }
   ],
   "source": [
    "# Value Count \n",
    "sns.countplot(data=df, x='python')"
   ]
  },
  {
   "cell_type": "code",
   "execution_count": 17,
   "id": "676dddd9",
   "metadata": {
    "execution": {
     "iopub.execute_input": "2023-07-02T15:21:59.163566Z",
     "iopub.status.busy": "2023-07-02T15:21:59.162807Z",
     "iopub.status.idle": "2023-07-02T15:21:59.415560Z",
     "shell.execute_reply": "2023-07-02T15:21:59.414419Z"
    },
    "papermill": {
     "duration": 0.27907,
     "end_time": "2023-07-02T15:21:59.418233",
     "exception": false,
     "start_time": "2023-07-02T15:21:59.139163",
     "status": "completed"
    },
    "tags": []
   },
   "outputs": [
    {
     "data": {
      "text/plain": [
       "<Axes: xlabel='php', ylabel='count'>"
      ]
     },
     "execution_count": 17,
     "metadata": {},
     "output_type": "execute_result"
    },
    {
     "data": {
      "image/png": "[encoded data removed]",
      "text/plain": [
       "<Figure size 640x480 with 1 Axes>"
      ]
     },
     "metadata": {},
     "output_type": "display_data"
    }
   ],
   "source": [
    "# Value Count \n",
    "sns.countplot(data=df, x='php')"
   ]
  },
  {
   "cell_type": "code",
   "execution_count": 18,
   "id": "a4d932ed",
   "metadata": {
    "execution": {
     "iopub.execute_input": "2023-07-02T15:21:59.468705Z",
     "iopub.status.busy": "2023-07-02T15:21:59.468269Z",
     "iopub.status.idle": "2023-07-02T15:21:59.477761Z",
     "shell.execute_reply": "2023-07-02T15:21:59.476542Z"
    },
    "papermill": {
     "duration": 0.036456,
     "end_time": "2023-07-02T15:21:59.480046",
     "exception": false,
     "start_time": "2023-07-02T15:21:59.443590",
     "status": "completed"
    },
    "tags": []
   },
   "outputs": [
    {
     "data": {
      "text/plain": [
       "1.0    82\n",
       "0.0    62\n",
       "Name: php, dtype: int64"
      ]
     },
     "execution_count": 18,
     "metadata": {},
     "output_type": "execute_result"
    }
   ],
   "source": [
    "df['php'].value_counts()"
   ]
  },
  {
   "cell_type": "code",
   "execution_count": 19,
   "id": "54379dd6",
   "metadata": {
    "execution": {
     "iopub.execute_input": "2023-07-02T15:21:59.528223Z",
     "iopub.status.busy": "2023-07-02T15:21:59.527332Z",
     "iopub.status.idle": "2023-07-02T15:21:59.867955Z",
     "shell.execute_reply": "2023-07-02T15:21:59.866808Z"
    },
    "papermill": {
     "duration": 0.367823,
     "end_time": "2023-07-02T15:21:59.870896",
     "exception": false,
     "start_time": "2023-07-02T15:21:59.503073",
     "status": "completed"
    },
    "tags": []
   },
   "outputs": [
    {
     "data": {
      "text/plain": [
       "<Axes: >"
      ]
     },
     "execution_count": 19,
     "metadata": {},
     "output_type": "execute_result"
    },
    {
     "data": {
      "image/png": "[encoded data removed]",
      "text/plain": [
       "<Figure size 640x480 with 1 Axes>"
      ]
     },
     "metadata": {},
     "output_type": "display_data"
    }
   ],
   "source": [
    "df['php'].value_counts().plot(kind='bar')"
   ]
  },
  {
   "cell_type": "markdown",
   "id": "d67d0e7b",
   "metadata": {
    "papermill": {
     "duration": 0.023296,
     "end_time": "2023-07-02T15:21:59.918135",
     "exception": false,
     "start_time": "2023-07-02T15:21:59.894839",
     "status": "completed"
    },
    "tags": []
   },
   "source": [
    "**Text Preprocessing**\n",
    "\n",
    "\n",
    "neattext : remove_stopwords\n",
    "\n",
    "pip install neattext"
   ]
  },
  {
   "cell_type": "code",
   "execution_count": 20,
   "id": "593f2107",
   "metadata": {
    "execution": {
     "iopub.execute_input": "2023-07-02T15:21:59.967783Z",
     "iopub.status.busy": "2023-07-02T15:21:59.967348Z",
     "iopub.status.idle": "2023-07-02T15:22:15.068170Z",
     "shell.execute_reply": "2023-07-02T15:22:15.066832Z"
    },
    "papermill": {
     "duration": 15.128254,
     "end_time": "2023-07-02T15:22:15.070973",
     "exception": false,
     "start_time": "2023-07-02T15:21:59.942719",
     "status": "completed"
    },
    "tags": []
   },
   "outputs": [
    {
     "name": "stdout",
     "output_type": "stream",
     "text": [
      "Collecting neattext\r\n",
      "  Downloading neattext-0.1.3-py3-none-any.whl (114 kB)\r\n",
      "\u001b[2K     \u001b[90m━━━━━━━━━━━━━━━━━━━━━━━━━━━━━━━━━━━━━━━\u001b[0m \u001b[32m114.7/114.7 kB\u001b[0m \u001b[31m4.2 MB/s\u001b[0m eta \u001b[36m0:00:00\u001b[0m\r\n",
      "\u001b[?25hInstalling collected packages: neattext\r\n",
      "Successfully installed neattext-0.1.3\r\n",
      "\u001b[33mWARNING: Running pip as the 'root' user can result in broken permissions and conflicting behaviour with the system package manager. It is recommended to use a virtual environment instead: https://pip.pypa.io/warnings/venv\u001b[0m\u001b[33m\r\n",
      "\u001b[0m"
     ]
    }
   ],
   "source": [
    "!pip install neattext"
   ]
  },
  {
   "cell_type": "code",
   "execution_count": 21,
   "id": "19d19d6a",
   "metadata": {
    "execution": {
     "iopub.execute_input": "2023-07-02T15:22:15.124773Z",
     "iopub.status.busy": "2023-07-02T15:22:15.124350Z",
     "iopub.status.idle": "2023-07-02T15:22:15.158990Z",
     "shell.execute_reply": "2023-07-02T15:22:15.157781Z"
    },
    "papermill": {
     "duration": 0.064861,
     "end_time": "2023-07-02T15:22:15.161638",
     "exception": false,
     "start_time": "2023-07-02T15:22:15.096777",
     "status": "completed"
    },
    "tags": []
   },
   "outputs": [],
   "source": [
    "import neattext as nt\n",
    "import neattext.functions as nfx"
   ]
  },
  {
   "cell_type": "code",
   "execution_count": 22,
   "id": "d8f3e926",
   "metadata": {
    "execution": {
     "iopub.execute_input": "2023-07-02T15:22:15.212125Z",
     "iopub.status.busy": "2023-07-02T15:22:15.211741Z",
     "iopub.status.idle": "2023-07-02T15:22:15.221148Z",
     "shell.execute_reply": "2023-07-02T15:22:15.220261Z"
    },
    "papermill": {
     "duration": 0.037627,
     "end_time": "2023-07-02T15:22:15.223825",
     "exception": false,
     "start_time": "2023-07-02T15:22:15.186198",
     "status": "completed"
    },
    "tags": []
   },
   "outputs": [
    {
     "data": {
      "text/plain": [
       "0      Flask-SQLAlchemy - When are the tables/databas...\n",
       "1            Combining two PHP variables for MySQL query\n",
       "2      'Counting' the number of records that match a ...\n",
       "3      Insert new row in a table and auto id number. ...\n",
       "4                 Create Multiple MySQL tables using PHP\n",
       "                             ...                        \n",
       "139    Executing \"SELECT ... WHERE ... IN ...\" using ...\n",
       "140                           SQLAlchemy reconnect to db\n",
       "141        mysql Count Distinct and get result using php\n",
       "142    How to store the result of a radio button with...\n",
       "143           Use SQL count result in IF statement - PHP\n",
       "Name: title, Length: 144, dtype: object"
      ]
     },
     "execution_count": 22,
     "metadata": {},
     "output_type": "execute_result"
    }
   ],
   "source": [
    "df['title']"
   ]
  },
  {
   "cell_type": "code",
   "execution_count": 23,
   "id": "e1d42f81",
   "metadata": {
    "execution": {
     "iopub.execute_input": "2023-07-02T15:22:15.274866Z",
     "iopub.status.busy": "2023-07-02T15:22:15.273823Z",
     "iopub.status.idle": "2023-07-02T15:22:15.301390Z",
     "shell.execute_reply": "2023-07-02T15:22:15.300021Z"
    },
    "papermill": {
     "duration": 0.055942,
     "end_time": "2023-07-02T15:22:15.303960",
     "exception": false,
     "start_time": "2023-07-02T15:22:15.248018",
     "status": "completed"
    },
    "tags": []
   },
   "outputs": [
    {
     "data": {
      "text/plain": [
       "0      {'text_noise': 11.267605633802818, 'text_lengt...\n",
       "1      {'text_noise': 4.651162790697675, 'text_length...\n",
       "2      {'text_noise': 9.90990990990991, 'text_length'...\n",
       "3      {'text_noise': 8.47457627118644, 'text_length'...\n",
       "4      {'text_noise': 2.631578947368421, 'text_length...\n",
       "                             ...                        \n",
       "139    {'text_noise': 26.41509433962264, 'text_length...\n",
       "140    {'text_noise': 3.8461538461538463, 'text_lengt...\n",
       "141    {'text_noise': 6.666666666666667, 'text_length...\n",
       "142    {'text_noise': 13.636363636363635, 'text_lengt...\n",
       "143    {'text_noise': 7.142857142857142, 'text_length...\n",
       "Name: title, Length: 144, dtype: object"
      ]
     },
     "execution_count": 23,
     "metadata": {},
     "output_type": "execute_result"
    }
   ],
   "source": [
    "# Explore For Noise\n",
    "df['title'].apply(lambda x:nt.TextFrame(x).noise_scan())"
   ]
  },
  {
   "cell_type": "code",
   "execution_count": 24,
   "id": "0824ba30",
   "metadata": {
    "execution": {
     "iopub.execute_input": "2023-07-02T15:22:15.356407Z",
     "iopub.status.busy": "2023-07-02T15:22:15.356014Z",
     "iopub.status.idle": "2023-07-02T15:22:15.369815Z",
     "shell.execute_reply": "2023-07-02T15:22:15.368698Z"
    },
    "papermill": {
     "duration": 0.042733,
     "end_time": "2023-07-02T15:22:15.372486",
     "exception": false,
     "start_time": "2023-07-02T15:22:15.329753",
     "status": "completed"
    },
    "tags": []
   },
   "outputs": [
    {
     "data": {
      "text/plain": [
       "0                                [when, are, the, and]\n",
       "1                                           [two, for]\n",
       "2                    [the, of, that, a, and, the, and]\n",
       "3                                    [in, a, and, and]\n",
       "4                                              [using]\n",
       "                            ...                       \n",
       "139                                 [where, in, using]\n",
       "140                                               [to]\n",
       "141                                  [and, get, using]\n",
       "142    [how, to, the, of, a, with, a, back, into, the]\n",
       "143                                           [in, if]\n",
       "Name: title, Length: 144, dtype: object"
      ]
     },
     "execution_count": 24,
     "metadata": {},
     "output_type": "execute_result"
    }
   ],
   "source": [
    "# Explore For Noise\n",
    "df['title'].apply(lambda x:nt.TextExtractor(x).extract_stopwords())"
   ]
  },
  {
   "cell_type": "code",
   "execution_count": 25,
   "id": "844e4f51",
   "metadata": {
    "execution": {
     "iopub.execute_input": "2023-07-02T15:22:15.425727Z",
     "iopub.status.busy": "2023-07-02T15:22:15.425335Z",
     "iopub.status.idle": "2023-07-02T15:22:15.434604Z",
     "shell.execute_reply": "2023-07-02T15:22:15.433371Z"
    },
    "papermill": {
     "duration": 0.039424,
     "end_time": "2023-07-02T15:22:15.437174",
     "exception": false,
     "start_time": "2023-07-02T15:22:15.397750",
     "status": "completed"
    },
    "tags": []
   },
   "outputs": [
    {
     "data": {
      "text/plain": [
       "['BTC_ADDRESS_REGEX',\n",
       " 'CURRENCY_REGEX',\n",
       " 'CURRENCY_SYMB_REGEX',\n",
       " 'Counter',\n",
       " 'DATE_REGEX',\n",
       " 'EMAIL_REGEX',\n",
       " 'EMOJI_REGEX',\n",
       " 'HASTAG_REGEX',\n",
       " 'MASTERCard_REGEX',\n",
       " 'MD5_SHA_REGEX',\n",
       " 'MOST_COMMON_PUNCT_REGEX',\n",
       " 'NUMBERS_REGEX',\n",
       " 'PHONE_REGEX',\n",
       " 'PoBOX_REGEX',\n",
       " 'SPECIAL_CHARACTERS_REGEX',\n",
       " 'STOPWORDS',\n",
       " 'STOPWORDS_de',\n",
       " 'STOPWORDS_en',\n",
       " 'STOPWORDS_es',\n",
       " 'STOPWORDS_fr',\n",
       " 'STOPWORDS_ru',\n",
       " 'STOPWORDS_yo',\n",
       " 'STREET_ADDRESS_REGEX',\n",
       " 'TextFrame',\n",
       " 'URL_PATTERN',\n",
       " 'USER_HANDLES_REGEX',\n",
       " 'VISACard_REGEX',\n",
       " '__builtins__',\n",
       " '__cached__',\n",
       " '__doc__',\n",
       " '__file__',\n",
       " '__generate_text',\n",
       " '__loader__',\n",
       " '__name__',\n",
       " '__numbers_dict',\n",
       " '__package__',\n",
       " '__spec__',\n",
       " '_lex_richness_herdan',\n",
       " '_lex_richness_maas_ttr',\n",
       " 'clean_text',\n",
       " 'defaultdict',\n",
       " 'digit2words',\n",
       " 'extract_btc_address',\n",
       " 'extract_currencies',\n",
       " 'extract_currency_symbols',\n",
       " 'extract_dates',\n",
       " 'extract_emails',\n",
       " 'extract_emojis',\n",
       " 'extract_hashtags',\n",
       " 'extract_html_tags',\n",
       " 'extract_mastercard_addr',\n",
       " 'extract_md5sha',\n",
       " 'extract_numbers',\n",
       " 'extract_pattern',\n",
       " 'extract_phone_numbers',\n",
       " 'extract_postoffice_box',\n",
       " 'extract_shortwords',\n",
       " 'extract_special_characters',\n",
       " 'extract_stopwords',\n",
       " 'extract_street_address',\n",
       " 'extract_terms_in_bracket',\n",
       " 'extract_urls',\n",
       " 'extract_userhandles',\n",
       " 'extract_visacard_addr',\n",
       " 'fix_contractions',\n",
       " 'generate_sentence',\n",
       " 'hamming_distance',\n",
       " 'inverse_df',\n",
       " 'lexical_richness',\n",
       " 'markov_chain',\n",
       " 'math',\n",
       " 'nlargest',\n",
       " 'normalize',\n",
       " 'num2words',\n",
       " 'random',\n",
       " 're',\n",
       " 'read_txt',\n",
       " 'remove_accents',\n",
       " 'remove_bad_quotes',\n",
       " 'remove_btc_address',\n",
       " 'remove_currencies',\n",
       " 'remove_currency_symbols',\n",
       " 'remove_custom_pattern',\n",
       " 'remove_custom_words',\n",
       " 'remove_dates',\n",
       " 'remove_emails',\n",
       " 'remove_emojis',\n",
       " 'remove_hashtags',\n",
       " 'remove_html_tags',\n",
       " 'remove_mastercard_addr',\n",
       " 'remove_md5sha',\n",
       " 'remove_multiple_spaces',\n",
       " 'remove_non_ascii',\n",
       " 'remove_numbers',\n",
       " 'remove_phone_numbers',\n",
       " 'remove_postoffice_box',\n",
       " 'remove_puncts',\n",
       " 'remove_punctuations',\n",
       " 'remove_shortwords',\n",
       " 'remove_special_characters',\n",
       " 'remove_stopwords',\n",
       " 'remove_street_address',\n",
       " 'remove_terms_in_bracket',\n",
       " 'remove_urls',\n",
       " 'remove_userhandles',\n",
       " 'remove_visacard_addr',\n",
       " 'replace_bad_quotes',\n",
       " 'replace_currencies',\n",
       " 'replace_currency_symbols',\n",
       " 'replace_dates',\n",
       " 'replace_emails',\n",
       " 'replace_emojis',\n",
       " 'replace_numbers',\n",
       " 'replace_phone_numbers',\n",
       " 'replace_special_characters',\n",
       " 'replace_term',\n",
       " 'replace_urls',\n",
       " 'string',\n",
       " 'term_freq',\n",
       " 'to_txt',\n",
       " 'unicodedata',\n",
       " 'word_freq',\n",
       " 'word_length_freq']"
      ]
     },
     "execution_count": 25,
     "metadata": {},
     "output_type": "execute_result"
    }
   ],
   "source": [
    "dir(nfx)"
   ]
  },
  {
   "cell_type": "code",
   "execution_count": 26,
   "id": "66411711",
   "metadata": {
    "execution": {
     "iopub.execute_input": "2023-07-02T15:22:15.489068Z",
     "iopub.status.busy": "2023-07-02T15:22:15.488656Z",
     "iopub.status.idle": "2023-07-02T15:22:15.498207Z",
     "shell.execute_reply": "2023-07-02T15:22:15.497241Z"
    },
    "papermill": {
     "duration": 0.038175,
     "end_time": "2023-07-02T15:22:15.500594",
     "exception": false,
     "start_time": "2023-07-02T15:22:15.462419",
     "status": "completed"
    },
    "tags": []
   },
   "outputs": [
    {
     "data": {
      "text/plain": [
       "0      Flask-SQLAlchemy - tables/databases created de...\n",
       "1                    Combining PHP variables MySQL query\n",
       "2      'Counting' number records match certain criter...\n",
       "3         Insert new row table auto id number. Php MySQL\n",
       "4                       Create Multiple MySQL tables PHP\n",
       "                             ...                        \n",
       "139               Executing \"SELECT ... ... ...\" MySQLdb\n",
       "140                              SQLAlchemy reconnect db\n",
       "141                      mysql Count Distinct result php\n",
       "142    store result radio button database value, data...\n",
       "143                 Use SQL count result statement - PHP\n",
       "Name: title, Length: 144, dtype: object"
      ]
     },
     "execution_count": 26,
     "metadata": {},
     "output_type": "execute_result"
    }
   ],
   "source": [
    "# Explore For Noise\n",
    "df['title'].apply(nfx.remove_stopwords)"
   ]
  },
  {
   "cell_type": "code",
   "execution_count": 27,
   "id": "5425a7b8",
   "metadata": {
    "execution": {
     "iopub.execute_input": "2023-07-02T15:22:15.552600Z",
     "iopub.status.busy": "2023-07-02T15:22:15.552208Z",
     "iopub.status.idle": "2023-07-02T15:22:15.562198Z",
     "shell.execute_reply": "2023-07-02T15:22:15.561002Z"
    },
    "papermill": {
     "duration": 0.039074,
     "end_time": "2023-07-02T15:22:15.564565",
     "exception": false,
     "start_time": "2023-07-02T15:22:15.525491",
     "status": "completed"
    },
    "tags": []
   },
   "outputs": [
    {
     "data": {
      "text/plain": [
       "0      Flask-SQLAlchemy - tables/databases created de...\n",
       "1                    Combining PHP variables MySQL query\n",
       "2      'Counting' number records match certain criter...\n",
       "3         Insert new row table auto id number. Php MySQL\n",
       "4                       Create Multiple MySQL tables PHP\n",
       "                             ...                        \n",
       "139               Executing \"SELECT ... ... ...\" MySQLdb\n",
       "140                              SQLAlchemy reconnect db\n",
       "141                      mysql Count Distinct result php\n",
       "142    store result radio button database value, data...\n",
       "143                 Use SQL count result statement - PHP\n",
       "Name: title, Length: 144, dtype: object"
      ]
     },
     "execution_count": 27,
     "metadata": {},
     "output_type": "execute_result"
    }
   ],
   "source": [
    "corpus = df['title'].apply(nfx.remove_stopwords)\n",
    "corpus"
   ]
  },
  {
   "cell_type": "markdown",
   "id": "b6c769c6",
   "metadata": {
    "papermill": {
     "duration": 0.0248,
     "end_time": "2023-07-02T15:22:15.614809",
     "exception": false,
     "start_time": "2023-07-02T15:22:15.590009",
     "status": "completed"
    },
    "tags": []
   },
   "source": [
    "**Feature Engineering**\n",
    "\n",
    "Build features from our text\n",
    "\n",
    "TFIDF,countvectorizer,bow"
   ]
  },
  {
   "cell_type": "code",
   "execution_count": 28,
   "id": "4003a598",
   "metadata": {
    "execution": {
     "iopub.execute_input": "2023-07-02T15:22:15.667840Z",
     "iopub.status.busy": "2023-07-02T15:22:15.667474Z",
     "iopub.status.idle": "2023-07-02T15:22:15.680353Z",
     "shell.execute_reply": "2023-07-02T15:22:15.679212Z"
    },
    "papermill": {
     "duration": 0.042833,
     "end_time": "2023-07-02T15:22:15.682822",
     "exception": false,
     "start_time": "2023-07-02T15:22:15.639989",
     "status": "completed"
    },
    "tags": []
   },
   "outputs": [
    {
     "data": {
      "text/html": [
       "<style>#sk-container-id-1 {color: black;background-color: white;}#sk-container-id-1 pre{padding: 0;}#sk-container-id-1 div.sk-toggleable {background-color: white;}#sk-container-id-1 label.sk-toggleable__label {cursor: pointer;display: block;width: 100%;margin-bottom: 0;padding: 0.3em;box-sizing: border-box;text-align: center;}#sk-container-id-1 label.sk-toggleable__label-arrow:before {content: \"▸\";float: left;margin-right: 0.25em;color: #696969;}#sk-container-id-1 label.sk-toggleable__label-arrow:hover:before {color: black;}#sk-container-id-1 div.sk-estimator:hover label.sk-toggleable__label-arrow:before {color: black;}#sk-container-id-1 div.sk-toggleable__content {max-height: 0;max-width: 0;overflow: hidden;text-align: left;background-color: #f0f8ff;}#sk-container-id-1 div.sk-toggleable__content pre {margin: 0.2em;color: black;border-radius: 0.25em;background-color: #f0f8ff;}#sk-container-id-1 input.sk-toggleable__control:checked~div.sk-toggleable__content {max-height: 200px;max-width: 100%;overflow: auto;}#sk-container-id-1 input.sk-toggleable__control:checked~label.sk-toggleable__label-arrow:before {content: \"▾\";}#sk-container-id-1 div.sk-estimator input.sk-toggleable__control:checked~label.sk-toggleable__label {background-color: #d4ebff;}#sk-container-id-1 div.sk-label input.sk-toggleable__control:checked~label.sk-toggleable__label {background-color: #d4ebff;}#sk-container-id-1 input.sk-hidden--visually {border: 0;clip: rect(1px 1px 1px 1px);clip: rect(1px, 1px, 1px, 1px);height: 1px;margin: -1px;overflow: hidden;padding: 0;position: absolute;width: 1px;}#sk-container-id-1 div.sk-estimator {font-family: monospace;background-color: #f0f8ff;border: 1px dotted black;border-radius: 0.25em;box-sizing: border-box;margin-bottom: 0.5em;}#sk-container-id-1 div.sk-estimator:hover {background-color: #d4ebff;}#sk-container-id-1 div.sk-parallel-item::after {content: \"\";width: 100%;border-bottom: 1px solid gray;flex-grow: 1;}#sk-container-id-1 div.sk-label:hover label.sk-toggleable__label {background-color: #d4ebff;}#sk-container-id-1 div.sk-serial::before {content: \"\";position: absolute;border-left: 1px solid gray;box-sizing: border-box;top: 0;bottom: 0;left: 50%;z-index: 0;}#sk-container-id-1 div.sk-serial {display: flex;flex-direction: column;align-items: center;background-color: white;padding-right: 0.2em;padding-left: 0.2em;position: relative;}#sk-container-id-1 div.sk-item {position: relative;z-index: 1;}#sk-container-id-1 div.sk-parallel {display: flex;align-items: stretch;justify-content: center;background-color: white;position: relative;}#sk-container-id-1 div.sk-item::before, #sk-container-id-1 div.sk-parallel-item::before {content: \"\";position: absolute;border-left: 1px solid gray;box-sizing: border-box;top: 0;bottom: 0;left: 50%;z-index: -1;}#sk-container-id-1 div.sk-parallel-item {display: flex;flex-direction: column;z-index: 1;position: relative;background-color: white;}#sk-container-id-1 div.sk-parallel-item:first-child::after {align-self: flex-end;width: 50%;}#sk-container-id-1 div.sk-parallel-item:last-child::after {align-self: flex-start;width: 50%;}#sk-container-id-1 div.sk-parallel-item:only-child::after {width: 0;}#sk-container-id-1 div.sk-dashed-wrapped {border: 1px dashed gray;margin: 0 0.4em 0.5em 0.4em;box-sizing: border-box;padding-bottom: 0.4em;background-color: white;}#sk-container-id-1 div.sk-label label {font-family: monospace;font-weight: bold;display: inline-block;line-height: 1.2em;}#sk-container-id-1 div.sk-label-container {text-align: center;}#sk-container-id-1 div.sk-container {/* jupyter's `normalize.less` sets `[hidden] { display: none; }` but bootstrap.min.css set `[hidden] { display: none !important; }` so we also need the `!important` here to be able to override the default hidden behavior on the sphinx rendered scikit-learn.org. See: https://github.com/scikit-learn/scikit-learn/issues/21755 */display: inline-block !important;position: relative;}#sk-container-id-1 div.sk-text-repr-fallback {display: none;}</style><div id=\"sk-container-id-1\" class=\"sk-top-container\"><div class=\"sk-text-repr-fallback\"><pre>TfidfVectorizer()</pre><b>In a Jupyter environment, please rerun this cell to show the HTML representation or trust the notebook. <br />On GitHub, the HTML representation is unable to render, please try loading this page with nbviewer.org.</b></div><div class=\"sk-container\" hidden><div class=\"sk-item\"><div class=\"sk-estimator sk-toggleable\"><input class=\"sk-toggleable__control sk-hidden--visually\" id=\"sk-estimator-id-1\" type=\"checkbox\" checked><label for=\"sk-estimator-id-1\" class=\"sk-toggleable__label sk-toggleable__label-arrow\">TfidfVectorizer</label><div class=\"sk-toggleable__content\"><pre>TfidfVectorizer()</pre></div></div></div></div></div>"
      ],
      "text/plain": [
       "TfidfVectorizer()"
      ]
     },
     "execution_count": 28,
     "metadata": {},
     "output_type": "execute_result"
    }
   ],
   "source": [
    "tfidf = TfidfVectorizer()\n",
    "tfidf"
   ]
  },
  {
   "cell_type": "code",
   "execution_count": 29,
   "id": "0bb68ca5",
   "metadata": {
    "execution": {
     "iopub.execute_input": "2023-07-02T15:22:15.736208Z",
     "iopub.status.busy": "2023-07-02T15:22:15.735548Z",
     "iopub.status.idle": "2023-07-02T15:22:15.759485Z",
     "shell.execute_reply": "2023-07-02T15:22:15.758519Z"
    },
    "papermill": {
     "duration": 0.053579,
     "end_time": "2023-07-02T15:22:15.762093",
     "exception": false,
     "start_time": "2023-07-02T15:22:15.708514",
     "status": "completed"
    },
    "tags": []
   },
   "outputs": [],
   "source": [
    "# Build Features\n",
    "Xfeatures = tfidf.fit_transform(corpus).toarray()"
   ]
  },
  {
   "cell_type": "code",
   "execution_count": 30,
   "id": "cf726127",
   "metadata": {
    "execution": {
     "iopub.execute_input": "2023-07-02T15:22:15.815333Z",
     "iopub.status.busy": "2023-07-02T15:22:15.814927Z",
     "iopub.status.idle": "2023-07-02T15:22:15.821456Z",
     "shell.execute_reply": "2023-07-02T15:22:15.820674Z"
    },
    "papermill": {
     "duration": 0.035451,
     "end_time": "2023-07-02T15:22:15.823432",
     "exception": false,
     "start_time": "2023-07-02T15:22:15.787981",
     "status": "completed"
    },
    "tags": []
   },
   "outputs": [
    {
     "data": {
      "text/plain": [
       "array([[0., 0., 0., ..., 0., 0., 0.],\n",
       "       [0., 0., 0., ..., 0., 0., 0.],\n",
       "       [0., 0., 0., ..., 0., 0., 0.],\n",
       "       ...,\n",
       "       [0., 0., 0., ..., 0., 0., 0.],\n",
       "       [0., 0., 0., ..., 0., 0., 0.],\n",
       "       [0., 0., 0., ..., 0., 0., 0.]])"
      ]
     },
     "execution_count": 30,
     "metadata": {},
     "output_type": "execute_result"
    }
   ],
   "source": [
    "Xfeatures"
   ]
  },
  {
   "cell_type": "code",
   "execution_count": 31,
   "id": "a64e25f4",
   "metadata": {
    "execution": {
     "iopub.execute_input": "2023-07-02T15:22:15.876507Z",
     "iopub.status.busy": "2023-07-02T15:22:15.876076Z",
     "iopub.status.idle": "2023-07-02T15:22:15.891559Z",
     "shell.execute_reply": "2023-07-02T15:22:15.890187Z"
    },
    "papermill": {
     "duration": 0.04514,
     "end_time": "2023-07-02T15:22:15.893994",
     "exception": false,
     "start_time": "2023-07-02T15:22:15.848854",
     "status": "completed"
    },
    "tags": []
   },
   "outputs": [
    {
     "data": {
      "text/html": [
       "<div>\n",
       "<style scoped>\n",
       "    .dataframe tbody tr th:only-of-type {\n",
       "        vertical-align: middle;\n",
       "    }\n",
       "\n",
       "    .dataframe tbody tr th {\n",
       "        vertical-align: top;\n",
       "    }\n",
       "\n",
       "    .dataframe thead th {\n",
       "        text-align: right;\n",
       "    }\n",
       "</style>\n",
       "<table border=\"1\" class=\"dataframe\">\n",
       "  <thead>\n",
       "    <tr style=\"text-align: right;\">\n",
       "      <th></th>\n",
       "      <th>title</th>\n",
       "      <th>tags</th>\n",
       "      <th>mysql</th>\n",
       "      <th>python</th>\n",
       "      <th>php</th>\n",
       "    </tr>\n",
       "  </thead>\n",
       "  <tbody>\n",
       "    <tr>\n",
       "      <th>0</th>\n",
       "      <td>Flask-SQLAlchemy - When are the tables/databas...</td>\n",
       "      <td>['python', 'mysql']</td>\n",
       "      <td>1.0</td>\n",
       "      <td>1.0</td>\n",
       "      <td>0.0</td>\n",
       "    </tr>\n",
       "    <tr>\n",
       "      <th>1</th>\n",
       "      <td>Combining two PHP variables for MySQL query</td>\n",
       "      <td>['php', 'mysql']</td>\n",
       "      <td>1.0</td>\n",
       "      <td>0.0</td>\n",
       "      <td>1.0</td>\n",
       "    </tr>\n",
       "    <tr>\n",
       "      <th>2</th>\n",
       "      <td>'Counting' the number of records that match a ...</td>\n",
       "      <td>['php', 'mysql']</td>\n",
       "      <td>1.0</td>\n",
       "      <td>0.0</td>\n",
       "      <td>1.0</td>\n",
       "    </tr>\n",
       "    <tr>\n",
       "      <th>3</th>\n",
       "      <td>Insert new row in a table and auto id number. ...</td>\n",
       "      <td>['php', 'mysql']</td>\n",
       "      <td>1.0</td>\n",
       "      <td>0.0</td>\n",
       "      <td>1.0</td>\n",
       "    </tr>\n",
       "    <tr>\n",
       "      <th>4</th>\n",
       "      <td>Create Multiple MySQL tables using PHP</td>\n",
       "      <td>['php', 'mysql']</td>\n",
       "      <td>1.0</td>\n",
       "      <td>0.0</td>\n",
       "      <td>1.0</td>\n",
       "    </tr>\n",
       "  </tbody>\n",
       "</table>\n",
       "</div>"
      ],
      "text/plain": [
       "                                               title                 tags  \\\n",
       "0  Flask-SQLAlchemy - When are the tables/databas...  ['python', 'mysql']   \n",
       "1        Combining two PHP variables for MySQL query     ['php', 'mysql']   \n",
       "2  'Counting' the number of records that match a ...     ['php', 'mysql']   \n",
       "3  Insert new row in a table and auto id number. ...     ['php', 'mysql']   \n",
       "4             Create Multiple MySQL tables using PHP     ['php', 'mysql']   \n",
       "\n",
       "   mysql  python  php  \n",
       "0    1.0     1.0  0.0  \n",
       "1    1.0     0.0  1.0  \n",
       "2    1.0     0.0  1.0  \n",
       "3    1.0     0.0  1.0  \n",
       "4    1.0     0.0  1.0  "
      ]
     },
     "execution_count": 31,
     "metadata": {},
     "output_type": "execute_result"
    }
   ],
   "source": [
    "df.head()"
   ]
  },
  {
   "cell_type": "code",
   "execution_count": 32,
   "id": "ed3aefd2",
   "metadata": {
    "execution": {
     "iopub.execute_input": "2023-07-02T15:22:15.947566Z",
     "iopub.status.busy": "2023-07-02T15:22:15.947163Z",
     "iopub.status.idle": "2023-07-02T15:22:15.954955Z",
     "shell.execute_reply": "2023-07-02T15:22:15.953868Z"
    },
    "papermill": {
     "duration": 0.037579,
     "end_time": "2023-07-02T15:22:15.957340",
     "exception": false,
     "start_time": "2023-07-02T15:22:15.919761",
     "status": "completed"
    },
    "tags": []
   },
   "outputs": [],
   "source": [
    "y = df[['mysql', 'python', 'php']]"
   ]
  },
  {
   "cell_type": "code",
   "execution_count": 33,
   "id": "67826b5a",
   "metadata": {
    "execution": {
     "iopub.execute_input": "2023-07-02T15:22:16.010559Z",
     "iopub.status.busy": "2023-07-02T15:22:16.010192Z",
     "iopub.status.idle": "2023-07-02T15:22:16.017894Z",
     "shell.execute_reply": "2023-07-02T15:22:16.016835Z"
    },
    "papermill": {
     "duration": 0.0373,
     "end_time": "2023-07-02T15:22:16.020315",
     "exception": false,
     "start_time": "2023-07-02T15:22:15.983015",
     "status": "completed"
    },
    "tags": []
   },
   "outputs": [],
   "source": [
    "# Split Data \n",
    "X_train,X_test,y_train,y_test = train_test_split(Xfeatures,y,test_size=0.3,random_state=42)"
   ]
  },
  {
   "cell_type": "code",
   "execution_count": 34,
   "id": "f24b1d14",
   "metadata": {
    "execution": {
     "iopub.execute_input": "2023-07-02T15:22:16.073941Z",
     "iopub.status.busy": "2023-07-02T15:22:16.073537Z",
     "iopub.status.idle": "2023-07-02T15:22:16.079188Z",
     "shell.execute_reply": "2023-07-02T15:22:16.078073Z"
    },
    "papermill": {
     "duration": 0.035498,
     "end_time": "2023-07-02T15:22:16.081841",
     "exception": false,
     "start_time": "2023-07-02T15:22:16.046343",
     "status": "completed"
    },
    "tags": []
   },
   "outputs": [
    {
     "name": "stdout",
     "output_type": "stream",
     "text": [
      "(144,)\n",
      "(100, 404)\n"
     ]
    }
   ],
   "source": [
    "print(df['title'].shape)\n",
    "print(X_train.shape)"
   ]
  },
  {
   "cell_type": "markdown",
   "id": "154e890c",
   "metadata": {
    "papermill": {
     "duration": 0.025916,
     "end_time": "2023-07-02T15:22:16.133814",
     "exception": false,
     "start_time": "2023-07-02T15:22:16.107898",
     "status": "completed"
    },
    "tags": []
   },
   "source": [
    "**Building Our Model**\n",
    "\n",
    "Estimator + Multilabel Estimator"
   ]
  },
  {
   "cell_type": "code",
   "execution_count": 35,
   "id": "596a0317",
   "metadata": {
    "execution": {
     "iopub.execute_input": "2023-07-02T15:22:16.187645Z",
     "iopub.status.busy": "2023-07-02T15:22:16.187256Z",
     "iopub.status.idle": "2023-07-02T15:22:16.190980Z",
     "shell.execute_reply": "2023-07-02T15:22:16.190138Z"
    },
    "papermill": {
     "duration": 0.033369,
     "end_time": "2023-07-02T15:22:16.193125",
     "exception": false,
     "start_time": "2023-07-02T15:22:16.159756",
     "status": "completed"
    },
    "tags": []
   },
   "outputs": [],
   "source": [
    "### Problem Transform\n",
    "import skmultilearn"
   ]
  },
  {
   "cell_type": "code",
   "execution_count": 36,
   "id": "66e88ed2",
   "metadata": {
    "execution": {
     "iopub.execute_input": "2023-07-02T15:22:16.247118Z",
     "iopub.status.busy": "2023-07-02T15:22:16.246671Z",
     "iopub.status.idle": "2023-07-02T15:22:16.253500Z",
     "shell.execute_reply": "2023-07-02T15:22:16.252394Z"
    },
    "papermill": {
     "duration": 0.036635,
     "end_time": "2023-07-02T15:22:16.255871",
     "exception": false,
     "start_time": "2023-07-02T15:22:16.219236",
     "status": "completed"
    },
    "tags": []
   },
   "outputs": [
    {
     "data": {
      "text/plain": [
       "['__builtins__',\n",
       " '__cached__',\n",
       " '__doc__',\n",
       " '__file__',\n",
       " '__loader__',\n",
       " '__name__',\n",
       " '__package__',\n",
       " '__path__',\n",
       " '__spec__',\n",
       " 'adapt',\n",
       " 'base',\n",
       " 'problem_transform',\n",
       " 'utils']"
      ]
     },
     "execution_count": 36,
     "metadata": {},
     "output_type": "execute_result"
    }
   ],
   "source": [
    "dir(skmultilearn)"
   ]
  },
  {
   "cell_type": "markdown",
   "id": "9d49a3f5",
   "metadata": {
    "papermill": {
     "duration": 0.026077,
     "end_time": "2023-07-02T15:22:16.307885",
     "exception": false,
     "start_time": "2023-07-02T15:22:16.281808",
     "status": "completed"
    },
    "tags": []
   },
   "source": [
    "**Binary Relevance classficiation**\n",
    "\n",
    "Convert Our Multi-Label Prob to Multi-Class"
   ]
  },
  {
   "attachments": {
    "1cb0230a-c2d0-4fcf-b38c-e7bcc82f813b.png": {
     "image/png": "[encoded data removed]"
    }
   },
   "cell_type": "markdown",
   "id": "3c0d79e9",
   "metadata": {
    "papermill": {
     "duration": 0.025691,
     "end_time": "2023-07-02T15:22:16.359950",
     "exception": false,
     "start_time": "2023-07-02T15:22:16.334259",
     "status": "completed"
    },
    "tags": []
   },
   "source": [
    "![image.png](attachment:1cb0230a-c2d0-4fcf-b38c-e7bcc82f813b.png)"
   ]
  },
  {
   "cell_type": "code",
   "execution_count": 37,
   "id": "7e5e4aa1",
   "metadata": {
    "execution": {
     "iopub.execute_input": "2023-07-02T15:22:16.415838Z",
     "iopub.status.busy": "2023-07-02T15:22:16.415439Z",
     "iopub.status.idle": "2023-07-02T15:22:16.419762Z",
     "shell.execute_reply": "2023-07-02T15:22:16.418988Z"
    },
    "papermill": {
     "duration": 0.035843,
     "end_time": "2023-07-02T15:22:16.422028",
     "exception": false,
     "start_time": "2023-07-02T15:22:16.386185",
     "status": "completed"
    },
    "tags": []
   },
   "outputs": [],
   "source": [
    "# Convert Our Multi-Label Prob to Multi-Class\n",
    "# binary classficiation\n",
    "binary_rel_clf = BinaryRelevance(MultinomialNB())"
   ]
  },
  {
   "cell_type": "code",
   "execution_count": 38,
   "id": "8983e579",
   "metadata": {
    "execution": {
     "iopub.execute_input": "2023-07-02T15:22:16.476508Z",
     "iopub.status.busy": "2023-07-02T15:22:16.476071Z",
     "iopub.status.idle": "2023-07-02T15:22:16.501827Z",
     "shell.execute_reply": "2023-07-02T15:22:16.500777Z"
    },
    "papermill": {
     "duration": 0.057576,
     "end_time": "2023-07-02T15:22:16.505518",
     "exception": false,
     "start_time": "2023-07-02T15:22:16.447942",
     "status": "completed"
    },
    "tags": []
   },
   "outputs": [
    {
     "data": {
      "text/html": [
       "<style>#sk-container-id-2 {color: black;background-color: white;}#sk-container-id-2 pre{padding: 0;}#sk-container-id-2 div.sk-toggleable {background-color: white;}#sk-container-id-2 label.sk-toggleable__label {cursor: pointer;display: block;width: 100%;margin-bottom: 0;padding: 0.3em;box-sizing: border-box;text-align: center;}#sk-container-id-2 label.sk-toggleable__label-arrow:before {content: \"▸\";float: left;margin-right: 0.25em;color: #696969;}#sk-container-id-2 label.sk-toggleable__label-arrow:hover:before {color: black;}#sk-container-id-2 div.sk-estimator:hover label.sk-toggleable__label-arrow:before {color: black;}#sk-container-id-2 div.sk-toggleable__content {max-height: 0;max-width: 0;overflow: hidden;text-align: left;background-color: #f0f8ff;}#sk-container-id-2 div.sk-toggleable__content pre {margin: 0.2em;color: black;border-radius: 0.25em;background-color: #f0f8ff;}#sk-container-id-2 input.sk-toggleable__control:checked~div.sk-toggleable__content {max-height: 200px;max-width: 100%;overflow: auto;}#sk-container-id-2 input.sk-toggleable__control:checked~label.sk-toggleable__label-arrow:before {content: \"▾\";}#sk-container-id-2 div.sk-estimator input.sk-toggleable__control:checked~label.sk-toggleable__label {background-color: #d4ebff;}#sk-container-id-2 div.sk-label input.sk-toggleable__control:checked~label.sk-toggleable__label {background-color: #d4ebff;}#sk-container-id-2 input.sk-hidden--visually {border: 0;clip: rect(1px 1px 1px 1px);clip: rect(1px, 1px, 1px, 1px);height: 1px;margin: -1px;overflow: hidden;padding: 0;position: absolute;width: 1px;}#sk-container-id-2 div.sk-estimator {font-family: monospace;background-color: #f0f8ff;border: 1px dotted black;border-radius: 0.25em;box-sizing: border-box;margin-bottom: 0.5em;}#sk-container-id-2 div.sk-estimator:hover {background-color: #d4ebff;}#sk-container-id-2 div.sk-parallel-item::after {content: \"\";width: 100%;border-bottom: 1px solid gray;flex-grow: 1;}#sk-container-id-2 div.sk-label:hover label.sk-toggleable__label {background-color: #d4ebff;}#sk-container-id-2 div.sk-serial::before {content: \"\";position: absolute;border-left: 1px solid gray;box-sizing: border-box;top: 0;bottom: 0;left: 50%;z-index: 0;}#sk-container-id-2 div.sk-serial {display: flex;flex-direction: column;align-items: center;background-color: white;padding-right: 0.2em;padding-left: 0.2em;position: relative;}#sk-container-id-2 div.sk-item {position: relative;z-index: 1;}#sk-container-id-2 div.sk-parallel {display: flex;align-items: stretch;justify-content: center;background-color: white;position: relative;}#sk-container-id-2 div.sk-item::before, #sk-container-id-2 div.sk-parallel-item::before {content: \"\";position: absolute;border-left: 1px solid gray;box-sizing: border-box;top: 0;bottom: 0;left: 50%;z-index: -1;}#sk-container-id-2 div.sk-parallel-item {display: flex;flex-direction: column;z-index: 1;position: relative;background-color: white;}#sk-container-id-2 div.sk-parallel-item:first-child::after {align-self: flex-end;width: 50%;}#sk-container-id-2 div.sk-parallel-item:last-child::after {align-self: flex-start;width: 50%;}#sk-container-id-2 div.sk-parallel-item:only-child::after {width: 0;}#sk-container-id-2 div.sk-dashed-wrapped {border: 1px dashed gray;margin: 0 0.4em 0.5em 0.4em;box-sizing: border-box;padding-bottom: 0.4em;background-color: white;}#sk-container-id-2 div.sk-label label {font-family: monospace;font-weight: bold;display: inline-block;line-height: 1.2em;}#sk-container-id-2 div.sk-label-container {text-align: center;}#sk-container-id-2 div.sk-container {/* jupyter's `normalize.less` sets `[hidden] { display: none; }` but bootstrap.min.css set `[hidden] { display: none !important; }` so we also need the `!important` here to be able to override the default hidden behavior on the sphinx rendered scikit-learn.org. See: https://github.com/scikit-learn/scikit-learn/issues/21755 */display: inline-block !important;position: relative;}#sk-container-id-2 div.sk-text-repr-fallback {display: none;}</style><div id=\"sk-container-id-2\" class=\"sk-top-container\"><div class=\"sk-text-repr-fallback\"><pre>BinaryRelevance(classifier=MultinomialNB(), require_dense=[True, True])</pre><b>In a Jupyter environment, please rerun this cell to show the HTML representation or trust the notebook. <br />On GitHub, the HTML representation is unable to render, please try loading this page with nbviewer.org.</b></div><div class=\"sk-container\" hidden><div class=\"sk-item sk-dashed-wrapped\"><div class=\"sk-label-container\"><div class=\"sk-label sk-toggleable\"><input class=\"sk-toggleable__control sk-hidden--visually\" id=\"sk-estimator-id-2\" type=\"checkbox\" ><label for=\"sk-estimator-id-2\" class=\"sk-toggleable__label sk-toggleable__label-arrow\">BinaryRelevance</label><div class=\"sk-toggleable__content\"><pre>BinaryRelevance(classifier=MultinomialNB(), require_dense=[True, True])</pre></div></div></div><div class=\"sk-parallel\"><div class=\"sk-parallel-item\"><div class=\"sk-item\"><div class=\"sk-label-container\"><div class=\"sk-label sk-toggleable\"><input class=\"sk-toggleable__control sk-hidden--visually\" id=\"sk-estimator-id-3\" type=\"checkbox\" ><label for=\"sk-estimator-id-3\" class=\"sk-toggleable__label sk-toggleable__label-arrow\">classifier: MultinomialNB</label><div class=\"sk-toggleable__content\"><pre>MultinomialNB()</pre></div></div></div><div class=\"sk-serial\"><div class=\"sk-item\"><div class=\"sk-estimator sk-toggleable\"><input class=\"sk-toggleable__control sk-hidden--visually\" id=\"sk-estimator-id-4\" type=\"checkbox\" ><label for=\"sk-estimator-id-4\" class=\"sk-toggleable__label sk-toggleable__label-arrow\">MultinomialNB</label><div class=\"sk-toggleable__content\"><pre>MultinomialNB()</pre></div></div></div></div></div></div></div></div></div></div>"
      ],
      "text/plain": [
       "BinaryRelevance(classifier=MultinomialNB(), require_dense=[True, True])"
      ]
     },
     "execution_count": 38,
     "metadata": {},
     "output_type": "execute_result"
    }
   ],
   "source": [
    "binary_rel_clf.fit(X_train,y_train)"
   ]
  },
  {
   "cell_type": "code",
   "execution_count": 39,
   "id": "cf7062f9",
   "metadata": {
    "execution": {
     "iopub.execute_input": "2023-07-02T15:22:16.612378Z",
     "iopub.status.busy": "2023-07-02T15:22:16.612000Z",
     "iopub.status.idle": "2023-07-02T15:22:16.625302Z",
     "shell.execute_reply": "2023-07-02T15:22:16.623901Z"
    },
    "papermill": {
     "duration": 0.069086,
     "end_time": "2023-07-02T15:22:16.629165",
     "exception": false,
     "start_time": "2023-07-02T15:22:16.560079",
     "status": "completed"
    },
    "tags": []
   },
   "outputs": [],
   "source": [
    "# Predictions\n",
    "br_prediction = binary_rel_clf.predict(X_test)"
   ]
  },
  {
   "cell_type": "code",
   "execution_count": 40,
   "id": "51fcfa45",
   "metadata": {
    "execution": {
     "iopub.execute_input": "2023-07-02T15:22:16.739726Z",
     "iopub.status.busy": "2023-07-02T15:22:16.739336Z",
     "iopub.status.idle": "2023-07-02T15:22:16.745291Z",
     "shell.execute_reply": "2023-07-02T15:22:16.744553Z"
    },
    "papermill": {
     "duration": 0.063933,
     "end_time": "2023-07-02T15:22:16.747354",
     "exception": false,
     "start_time": "2023-07-02T15:22:16.683421",
     "status": "completed"
    },
    "tags": []
   },
   "outputs": [
    {
     "data": {
      "text/plain": [
       "<44x3 sparse matrix of type '<class 'numpy.float64'>'\n",
       "\twith 88 stored elements in Compressed Sparse Column format>"
      ]
     },
     "execution_count": 40,
     "metadata": {},
     "output_type": "execute_result"
    }
   ],
   "source": [
    "br_prediction"
   ]
  },
  {
   "cell_type": "code",
   "execution_count": 41,
   "id": "003e8bdf",
   "metadata": {
    "execution": {
     "iopub.execute_input": "2023-07-02T15:22:16.802482Z",
     "iopub.status.busy": "2023-07-02T15:22:16.801880Z",
     "iopub.status.idle": "2023-07-02T15:22:16.809565Z",
     "shell.execute_reply": "2023-07-02T15:22:16.808478Z"
    },
    "papermill": {
     "duration": 0.038207,
     "end_time": "2023-07-02T15:22:16.812080",
     "exception": false,
     "start_time": "2023-07-02T15:22:16.773873",
     "status": "completed"
    },
    "tags": []
   },
   "outputs": [
    {
     "data": {
      "text/plain": [
       "array([[1., 0., 1.],\n",
       "       [1., 0., 1.],\n",
       "       [1., 1., 0.],\n",
       "       [1., 0., 1.],\n",
       "       [1., 0., 1.],\n",
       "       [1., 0., 1.],\n",
       "       [1., 0., 1.],\n",
       "       [1., 1., 0.],\n",
       "       [1., 1., 0.],\n",
       "       [1., 0., 1.],\n",
       "       [1., 0., 1.],\n",
       "       [1., 0., 1.],\n",
       "       [1., 0., 1.],\n",
       "       [1., 1., 0.],\n",
       "       [1., 0., 1.],\n",
       "       [1., 0., 1.],\n",
       "       [1., 0., 1.],\n",
       "       [1., 0., 1.],\n",
       "       [1., 0., 1.],\n",
       "       [1., 1., 0.],\n",
       "       [1., 1., 0.],\n",
       "       [1., 1., 0.],\n",
       "       [1., 0., 1.],\n",
       "       [1., 0., 1.],\n",
       "       [1., 0., 1.],\n",
       "       [1., 0., 1.],\n",
       "       [1., 0., 1.],\n",
       "       [1., 0., 1.],\n",
       "       [1., 0., 1.],\n",
       "       [1., 1., 0.],\n",
       "       [1., 1., 0.],\n",
       "       [1., 1., 0.],\n",
       "       [1., 0., 1.],\n",
       "       [1., 1., 0.],\n",
       "       [1., 1., 0.],\n",
       "       [1., 1., 0.],\n",
       "       [1., 0., 1.],\n",
       "       [1., 0., 1.],\n",
       "       [1., 1., 0.],\n",
       "       [1., 0., 1.],\n",
       "       [1., 1., 0.],\n",
       "       [1., 0., 1.],\n",
       "       [1., 1., 0.],\n",
       "       [1., 1., 0.]])"
      ]
     },
     "execution_count": 41,
     "metadata": {},
     "output_type": "execute_result"
    }
   ],
   "source": [
    "# Convert to Array  To See Result\n",
    "br_prediction.toarray()"
   ]
  },
  {
   "cell_type": "code",
   "execution_count": 42,
   "id": "628d651e",
   "metadata": {
    "execution": {
     "iopub.execute_input": "2023-07-02T15:22:16.870477Z",
     "iopub.status.busy": "2023-07-02T15:22:16.869832Z",
     "iopub.status.idle": "2023-07-02T15:22:16.881895Z",
     "shell.execute_reply": "2023-07-02T15:22:16.880787Z"
    },
    "papermill": {
     "duration": 0.044516,
     "end_time": "2023-07-02T15:22:16.884420",
     "exception": false,
     "start_time": "2023-07-02T15:22:16.839904",
     "status": "completed"
    },
    "tags": []
   },
   "outputs": [
    {
     "data": {
      "text/plain": [
       "0.9090909090909091"
      ]
     },
     "execution_count": 42,
     "metadata": {},
     "output_type": "execute_result"
    }
   ],
   "source": [
    "# Accuracy\n",
    "accuracy_score(y_test,br_prediction)"
   ]
  },
  {
   "cell_type": "code",
   "execution_count": 43,
   "id": "c4e91cf4",
   "metadata": {
    "execution": {
     "iopub.execute_input": "2023-07-02T15:22:16.940273Z",
     "iopub.status.busy": "2023-07-02T15:22:16.939532Z",
     "iopub.status.idle": "2023-07-02T15:22:16.949296Z",
     "shell.execute_reply": "2023-07-02T15:22:16.948161Z"
    },
    "papermill": {
     "duration": 0.039825,
     "end_time": "2023-07-02T15:22:16.951477",
     "exception": false,
     "start_time": "2023-07-02T15:22:16.911652",
     "status": "completed"
    },
    "tags": []
   },
   "outputs": [
    {
     "data": {
      "text/plain": [
       "0.06060606060606061"
      ]
     },
     "execution_count": 43,
     "metadata": {},
     "output_type": "execute_result"
    }
   ],
   "source": [
    "# Hamming Loss :Incorrect Predictions\n",
    "# The Lower the result the better\n",
    "hamming_loss(y_test,br_prediction)"
   ]
  },
  {
   "cell_type": "markdown",
   "id": "0768a16a",
   "metadata": {
    "papermill": {
     "duration": 0.026725,
     "end_time": "2023-07-02T15:22:17.004924",
     "exception": false,
     "start_time": "2023-07-02T15:22:16.978199",
     "status": "completed"
    },
    "tags": []
   },
   "source": [
    "**Classifier Chains**\n",
    "\n",
    "Preserve Label Correlation"
   ]
  },
  {
   "attachments": {
    "8a7406d2-6d7d-482f-8acc-507a151d01ec.png": {
     "image/png": "[encoded data removed]"
    }
   },
   "cell_type": "markdown",
   "id": "5ae85ada",
   "metadata": {
    "papermill": {
     "duration": 0.026437,
     "end_time": "2023-07-02T15:22:17.058132",
     "exception": false,
     "start_time": "2023-07-02T15:22:17.031695",
     "status": "completed"
    },
    "tags": []
   },
   "source": [
    "![image.png](attachment:8a7406d2-6d7d-482f-8acc-507a151d01ec.png)"
   ]
  },
  {
   "cell_type": "code",
   "execution_count": 44,
   "id": "cda5544e",
   "metadata": {
    "execution": {
     "iopub.execute_input": "2023-07-02T15:22:17.114970Z",
     "iopub.status.busy": "2023-07-02T15:22:17.113711Z",
     "iopub.status.idle": "2023-07-02T15:22:17.120771Z",
     "shell.execute_reply": "2023-07-02T15:22:17.119503Z"
    },
    "papermill": {
     "duration": 0.038273,
     "end_time": "2023-07-02T15:22:17.123471",
     "exception": false,
     "start_time": "2023-07-02T15:22:17.085198",
     "status": "completed"
    },
    "tags": []
   },
   "outputs": [],
   "source": [
    "def build_model(model,mlb_estimator,xtrain,ytrain,xtest,ytest):\n",
    "    # Create an Instance\n",
    "    clf = mlb_estimator(model)\n",
    "    clf.fit(xtrain,ytrain)\n",
    "    # Predict\n",
    "    clf_predictions = clf.predict(xtest)\n",
    "    # Check For Accuracy\n",
    "    acc = accuracy_score(ytest,clf_predictions)\n",
    "    ham = hamming_loss(ytest,clf_predictions)\n",
    "    result = {\"accuracy:\":acc,\"hamming_score\":ham}\n",
    "    return result"
   ]
  },
  {
   "cell_type": "code",
   "execution_count": 45,
   "id": "1ed9a431",
   "metadata": {
    "execution": {
     "iopub.execute_input": "2023-07-02T15:22:17.180641Z",
     "iopub.status.busy": "2023-07-02T15:22:17.180246Z",
     "iopub.status.idle": "2023-07-02T15:22:17.221378Z",
     "shell.execute_reply": "2023-07-02T15:22:17.219856Z"
    },
    "papermill": {
     "duration": 0.074504,
     "end_time": "2023-07-02T15:22:17.225555",
     "exception": false,
     "start_time": "2023-07-02T15:22:17.151051",
     "status": "completed"
    },
    "tags": []
   },
   "outputs": [],
   "source": [
    "clf_chain_model = build_model(MultinomialNB(),ClassifierChain,X_train,y_train,X_test,y_test)"
   ]
  },
  {
   "cell_type": "code",
   "execution_count": 46,
   "id": "339a10d1",
   "metadata": {
    "execution": {
     "iopub.execute_input": "2023-07-02T15:22:17.334478Z",
     "iopub.status.busy": "2023-07-02T15:22:17.333483Z",
     "iopub.status.idle": "2023-07-02T15:22:17.340042Z",
     "shell.execute_reply": "2023-07-02T15:22:17.339140Z"
    },
    "papermill": {
     "duration": 0.060394,
     "end_time": "2023-07-02T15:22:17.342198",
     "exception": false,
     "start_time": "2023-07-02T15:22:17.281804",
     "status": "completed"
    },
    "tags": []
   },
   "outputs": [
    {
     "data": {
      "text/plain": [
       "{'accuracy:': 0.8409090909090909, 'hamming_score': 0.10606060606060606}"
      ]
     },
     "execution_count": 46,
     "metadata": {},
     "output_type": "execute_result"
    }
   ],
   "source": [
    "clf_chain_model"
   ]
  },
  {
   "cell_type": "markdown",
   "id": "5adf6c70",
   "metadata": {
    "papermill": {
     "duration": 0.026703,
     "end_time": "2023-07-02T15:22:17.395995",
     "exception": false,
     "start_time": "2023-07-02T15:22:17.369292",
     "status": "completed"
    },
    "tags": []
   },
   "source": [
    "**LabelPowerset**"
   ]
  },
  {
   "attachments": {
    "f33cb1c6-7f7c-4723-b765-3fabe7c62a14.png": {
     "image/png": "[encoded data removed]"
    }
   },
   "cell_type": "markdown",
   "id": "c97e5d9d",
   "metadata": {
    "papermill": {
     "duration": 0.02689,
     "end_time": "2023-07-02T15:22:17.452830",
     "exception": false,
     "start_time": "2023-07-02T15:22:17.425940",
     "status": "completed"
    },
    "tags": []
   },
   "source": [
    "![image.png](attachment:f33cb1c6-7f7c-4723-b765-3fabe7c62a14.png)"
   ]
  },
  {
   "cell_type": "code",
   "execution_count": 47,
   "id": "62627111",
   "metadata": {
    "execution": {
     "iopub.execute_input": "2023-07-02T15:22:17.510698Z",
     "iopub.status.busy": "2023-07-02T15:22:17.509940Z",
     "iopub.status.idle": "2023-07-02T15:22:17.529419Z",
     "shell.execute_reply": "2023-07-02T15:22:17.528493Z"
    },
    "papermill": {
     "duration": 0.05124,
     "end_time": "2023-07-02T15:22:17.531887",
     "exception": false,
     "start_time": "2023-07-02T15:22:17.480647",
     "status": "completed"
    },
    "tags": []
   },
   "outputs": [],
   "source": [
    "clf_labelP_model = build_model(MultinomialNB(),LabelPowerset,X_train,y_train,X_test,y_test)"
   ]
  },
  {
   "cell_type": "code",
   "execution_count": 48,
   "id": "15980e89",
   "metadata": {
    "execution": {
     "iopub.execute_input": "2023-07-02T15:22:17.591058Z",
     "iopub.status.busy": "2023-07-02T15:22:17.590392Z",
     "iopub.status.idle": "2023-07-02T15:22:17.596247Z",
     "shell.execute_reply": "2023-07-02T15:22:17.595222Z"
    },
    "papermill": {
     "duration": 0.039115,
     "end_time": "2023-07-02T15:22:17.598577",
     "exception": false,
     "start_time": "2023-07-02T15:22:17.559462",
     "status": "completed"
    },
    "tags": []
   },
   "outputs": [
    {
     "data": {
      "text/plain": [
       "{'accuracy:': 0.9090909090909091, 'hamming_score': 0.06060606060606061}"
      ]
     },
     "execution_count": 48,
     "metadata": {},
     "output_type": "execute_result"
    }
   ],
   "source": [
    "clf_labelP_model"
   ]
  },
  {
   "cell_type": "code",
   "execution_count": 49,
   "id": "9bb23781",
   "metadata": {
    "execution": {
     "iopub.execute_input": "2023-07-02T15:22:17.655903Z",
     "iopub.status.busy": "2023-07-02T15:22:17.655487Z",
     "iopub.status.idle": "2023-07-02T15:22:17.660143Z",
     "shell.execute_reply": "2023-07-02T15:22:17.659077Z"
    },
    "papermill": {
     "duration": 0.036077,
     "end_time": "2023-07-02T15:22:17.662631",
     "exception": false,
     "start_time": "2023-07-02T15:22:17.626554",
     "status": "completed"
    },
    "tags": []
   },
   "outputs": [],
   "source": [
    "### Apply On A Simple Ttitle/Question"
   ]
  },
  {
   "cell_type": "code",
   "execution_count": 50,
   "id": "79c2d0fe",
   "metadata": {
    "execution": {
     "iopub.execute_input": "2023-07-02T15:22:17.719676Z",
     "iopub.status.busy": "2023-07-02T15:22:17.718867Z",
     "iopub.status.idle": "2023-07-02T15:22:17.724218Z",
     "shell.execute_reply": "2023-07-02T15:22:17.723268Z"
    },
    "papermill": {
     "duration": 0.036823,
     "end_time": "2023-07-02T15:22:17.726779",
     "exception": false,
     "start_time": "2023-07-02T15:22:17.689956",
     "status": "completed"
    },
    "tags": []
   },
   "outputs": [],
   "source": [
    "ex1 = df['title'].iloc[0]"
   ]
  },
  {
   "cell_type": "code",
   "execution_count": 51,
   "id": "20906592",
   "metadata": {
    "execution": {
     "iopub.execute_input": "2023-07-02T15:22:17.784628Z",
     "iopub.status.busy": "2023-07-02T15:22:17.783547Z",
     "iopub.status.idle": "2023-07-02T15:22:17.790436Z",
     "shell.execute_reply": "2023-07-02T15:22:17.789583Z"
    },
    "papermill": {
     "duration": 0.038912,
     "end_time": "2023-07-02T15:22:17.792880",
     "exception": false,
     "start_time": "2023-07-02T15:22:17.753968",
     "status": "completed"
    },
    "tags": []
   },
   "outputs": [],
   "source": [
    "# Vectorized \n",
    "vec_example = tfidf.transform([ex1])"
   ]
  },
  {
   "cell_type": "code",
   "execution_count": 52,
   "id": "aabddf23",
   "metadata": {
    "execution": {
     "iopub.execute_input": "2023-07-02T15:22:17.849582Z",
     "iopub.status.busy": "2023-07-02T15:22:17.848805Z",
     "iopub.status.idle": "2023-07-02T15:22:17.858666Z",
     "shell.execute_reply": "2023-07-02T15:22:17.857555Z"
    },
    "papermill": {
     "duration": 0.041272,
     "end_time": "2023-07-02T15:22:17.861260",
     "exception": false,
     "start_time": "2023-07-02T15:22:17.819988",
     "status": "completed"
    },
    "tags": []
   },
   "outputs": [
    {
     "data": {
      "text/plain": [
       "array([[1., 1., 0.]])"
      ]
     },
     "execution_count": 52,
     "metadata": {},
     "output_type": "execute_result"
    }
   ],
   "source": [
    "# Make our prediction\n",
    "binary_rel_clf.predict(vec_example).toarray()"
   ]
  },
  {
   "cell_type": "code",
   "execution_count": null,
   "id": "77e4851e",
   "metadata": {
    "papermill": {
     "duration": 0.027068,
     "end_time": "2023-07-02T15:22:17.916007",
     "exception": false,
     "start_time": "2023-07-02T15:22:17.888939",
     "status": "completed"
    },
    "tags": []
   },
   "outputs": [],
   "source": []
  }
 ],
 "metadata": {
  "kernelspec": {
   "display_name": "Python 3",
   "language": "python",
   "name": "python3"
  },
  "language_info": {
   "codemirror_mode": {
    "name": "ipython",
    "version": 3
   },
   "file_extension": ".py",
   "mimetype": "text/x-python",
   "name": "python",
   "nbconvert_exporter": "python",
   "pygments_lexer": "ipython3",
   "version": "3.10.10"
  },
  "papermill": {
   "default_parameters": {},
   "duration": 36.453348,
   "end_time": "2023-07-02T15:22:19.066924",
   "environment_variables": {},
   "exception": null,
   "input_path": "__notebook__.ipynb",
   "output_path": "__notebook__.ipynb",
   "parameters": {},
   "start_time": "2023-07-02T15:21:42.613576",
   "version": "2.4.0"
  }
 },
 "nbformat": 4,
 "nbformat_minor": 5
}
